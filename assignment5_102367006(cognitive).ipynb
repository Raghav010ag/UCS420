{
 "cells": [
  {
   "cell_type": "markdown",
   "id": "d74848c4-a233-464f-ac9b-3c2e642056e3",
   "metadata": {},
   "source": [
    "# Q.1 Matrix Operations\n",
    "\n",
    "### Given the matrix `gfg = np.matrix('[4, 1, 9; 12, 3, 1; 4, 5, 6]')`, perform the following operations:\n",
    "\n",
    "- **i. Sum of all elements** in the matrix.\n",
    "- **ii. Sum of all elements row-wise**.\n",
    "- **iii. Sum of all elements column-wise**.\n"
   ]
  },
  {
   "cell_type": "code",
   "execution_count": 1,
   "id": "2cdc38d3-e488-44e5-b2ce-d0be6348b645",
   "metadata": {},
   "outputs": [],
   "source": [
    "import numpy as np"
   ]
  },
  {
   "cell_type": "code",
   "execution_count": null,
   "id": "ecd07ca0-c844-483b-af31-36d049247d38",
   "metadata": {},
   "outputs": [
    {
     "name": "stdout",
     "output_type": "stream",
     "text": [
      "Sum of all elements: 45\n",
      "Sum of all rows: [[14]\n",
      " [16]\n",
      " [15]]\n",
      "Sum of all columns: [[20  9 16]]\n"
     ]
    }
   ],
   "source": [
    "gfg = np.matrix('[4, 1, 9; 12, 3, 1; 4, 5, 6]')\n",
    "\n",
    "print(\"Sum of all elements:\", gfg.sum())\n",
    "print(\"Sum of all rows:\", gfg.sum(axis=1))\n",
    "print(\"Sum of all columns:\", gfg.sum(axis=0))"
   ]
  },
  {
   "cell_type": "markdown",
   "id": "823ec166-5f1f-49b9-8279-9d8e0b37d706",
   "metadata": {},
   "source": [
    "# Q.2 Array Operations\n",
    "\n",
    "### (a) Given the array `array = [10, 52, 62, 16, 16, 54, 453]`, perform the following operations:\n",
    "\n",
    "- **i. Sorted array**  \n",
    "- **ii. Indices of sorted array**  \n",
    "- **iii. 4 smallest elements**  \n",
    "- **iv. 5 largest elements**  \n",
    "\n",
    "---\n",
    "\n",
    "### (b) Given the array `array = [1.0, 1.2, 2.2, 2.0, 3.0, 2.0]`, perform the following operations:\n",
    "\n",
    "- **i. Extract integer elements only**  \n",
    "- **ii. Extract float elements only**  \n"
   ]
  },
  {
   "cell_type": "code",
   "execution_count": 2,
   "id": "507b4506-40cc-4b6a-9e73-9af788ed0913",
   "metadata": {},
   "outputs": [
    {
     "name": "stdout",
     "output_type": "stream",
     "text": [
      "Sorted Array: [ 10  16  16  52  54  62 453]\n",
      "Indices of Sorted Array: [0 3 4 1 5 2 6]\n",
      "4 Smallest Elements: [10 16 16 52]\n",
      "5 Largest Elements: [ 16  52  54  62 453]\n"
     ]
    }
   ],
   "source": [
    "#a\n",
    "array = np.array([10, 52, 62, 16, 16, 54, 453])\n",
    "print(\"Sorted Array:\", np.sort(array))\n",
    "print(\"Indices of Sorted Array:\", np.argsort(array))\n",
    "print(\"4 Smallest Elements:\", np.sort(array)[:4])\n",
    "print(\"5 Largest Elements:\", np.sort(array)[-5:])"
   ]
  },
  {
   "cell_type": "code",
   "execution_count": 3,
   "id": "973a9eca-759e-4a35-808c-36bfebd43c4b",
   "metadata": {},
   "outputs": [
    {
     "name": "stdout",
     "output_type": "stream",
     "text": [
      "Integer Elements Only: [1. 2. 3. 2.]\n",
      "Float Elements Only: [1.2 2.2]\n"
     ]
    }
   ],
   "source": [
    "#b\n",
    "array = np.array([1.0, 1.2, 2.2, 2.0, 3.0, 2.0])\n",
    "\n",
    "print(\"Integer Elements Only:\", array[np.floor(array) == array])\n",
    "print(\"Float Elements Only:\", array[np.floor(array) != array])"
   ]
  },
  {
   "cell_type": "markdown",
   "id": "6ef7cefd-d726-4860-9a9f-f38fb7f0fbe1",
   "metadata": {},
   "source": [
    "# Q.3 Weekly Sales Dataset with NumPy Broadcasting\n",
    "\n",
    "### a) Generate your unique sales dataset:\n",
    "- Take the sum of the **ASCII values** of the initials of your **first and last name**.  \n",
    "  - Example: If your initials are **A B** → ASCII sum = `65 + 66 = 131`  \n",
    "  - Compute **sales** as:\n",
    "    ```python\n",
    "    sales = np.array([X, X+50, X+100, X+150, X+200])\n",
    "    ```\n",
    "\n",
    "---\n",
    "\n",
    "### b) Compute your personalized tax rate:\n",
    "- Formula:  Tax Rate = ((X % 5) + 5) / 100\n",
    "- Use **NumPy broadcasting** to apply this tax rate to each sales value.\n",
    "\n",
    "---\n",
    "\n",
    "### c) Adjust sales based on discounts:\n",
    "- **Apply a 5% discount** if `sales < X+100`  \n",
    "- **Apply a 10% discount** if `sales >= X+100`\n",
    "\n",
    "---\n",
    "\n",
    "### d) Expand sales data for multiple weeks:\n",
    "- Create a **3×5 matrix** representing **three weeks of sales** by stacking `sales` three times.\n",
    "- Increase sales by **2% per week** using **element-wise broadcasting**.\n",
    "\n",
    "---\n"
   ]
  },
  {
   "cell_type": "code",
   "execution_count": 4,
   "id": "27b7a012-2c18-47a2-90aa-2cace814c3c7",
   "metadata": {},
   "outputs": [
    {
     "name": "stdout",
     "output_type": "stream",
     "text": [
      "[161 211 261 311 361]\n"
     ]
    }
   ],
   "source": [
    "#a\n",
    "X = ord('S') + ord('N')\n",
    "sales = np.array([X, X+50, X+100, X+150, X+200])\n",
    "print(sales)"
   ]
  },
  {
   "cell_type": "code",
   "execution_count": 5,
   "id": "34982fcb-fc2d-4da9-ba81-259280a19bcf",
   "metadata": {},
   "outputs": [
    {
     "name": "stdout",
     "output_type": "stream",
     "text": [
      "[ 9.66 12.66 15.66 18.66 21.66]\n"
     ]
    }
   ],
   "source": [
    "#b\n",
    "tax_rate = ((X % 5) + 5) / 100\n",
    "tax = sales * tax_rate\n",
    "print(tax)"
   ]
  },
  {
   "cell_type": "code",
   "execution_count": 6,
   "id": "ba2b24c1-7760-4628-8cc9-3d0b100f1364",
   "metadata": {},
   "outputs": [
    {
     "name": "stdout",
     "output_type": "stream",
     "text": [
      "[152.95 200.45 234.9  279.9  324.9 ]\n"
     ]
    }
   ],
   "source": [
    "#c\n",
    "discount = np.where(sales < X+100, 0.05, 0.10)\n",
    "discounted = sales * (1 - discount)\n",
    "print(discounted)"
   ]
  },
  {
   "cell_type": "code",
   "execution_count": 7,
   "id": "286538fe-1cba-4629-b635-16a06d03c35f",
   "metadata": {},
   "outputs": [
    {
     "name": "stdout",
     "output_type": "stream",
     "text": [
      "[[152.95  200.45  234.9   279.9   324.9  ]\n",
      " [156.009 204.459 239.598 285.498 331.398]\n",
      " [159.068 208.468 244.296 291.096 337.896]]\n"
     ]
    }
   ],
   "source": [
    "#d\n",
    "weekly_sales = np.tile(discounted, (3, 1))\n",
    "multiplier = np.array([1.00, 1.02, 1.04]).reshape(3, 1)\n",
    "adjusted = weekly_sales * multiplier\n",
    "print(adjusted)"
   ]
  },
  {
   "cell_type": "markdown",
   "id": "2bfd8b3d-801f-4f42-9bba-c0621205245e",
   "metadata": {},
   "source": [
    "# Q4. Plotting Mathematical Functions Using NumPy and Matplotlib\n",
    "\n",
    "### **Step 1: Generate x values**\n",
    "- Use `np.linspace()` to create **100 points** between **-10 and 10**.\n",
    "\n",
    "---\n",
    "\n",
    "### **Step 2: Compute y values using NumPy**\n",
    "- Compute values for the following functions:\n",
    "  - \\( Y = x^2 \\)\n",
    "  - \\( Y = sin(x) \\)\n",
    "  - \\( Y = e^x \\)\n",
    "  - \\( Y = log(|x| + 1) \\)\n",
    "\n",
    "---\n",
    "\n",
    "### **Step 3: Plot the functions using Matplotlib**\n",
    "- Plot each of the functions.\n",
    "- Add:\n",
    "  - **Title**: `\"Plots of Mathematical Functions\"`\n",
    "  - **X-axis Label**: `\"X values\"`\n",
    "  - **Y-axis Label**: `\"Y values\"`\n",
    "  - **Grid** for clarity.\n"
   ]
  },
  {
   "cell_type": "code",
   "execution_count": 11,
   "id": "af3e1986-55f9-4991-bd18-070c443ed19b",
   "metadata": {},
   "outputs": [
    {
     "ename": "ModuleNotFoundError",
     "evalue": "No module named 'matplotlib'",
     "output_type": "error",
     "traceback": [
      "\u001b[1;31m---------------------------------------------------------------------------\u001b[0m",
      "\u001b[1;31mModuleNotFoundError\u001b[0m                       Traceback (most recent call last)",
      "Cell \u001b[1;32mIn[11], line 1\u001b[0m\n\u001b[1;32m----> 1\u001b[0m \u001b[38;5;28;01mimport\u001b[39;00m\u001b[38;5;250m \u001b[39m\u001b[38;5;21;01mmatplotlib\u001b[39;00m\u001b[38;5;21;01m.\u001b[39;00m\u001b[38;5;21;01mpyplot\u001b[39;00m\u001b[38;5;250m \u001b[39m\u001b[38;5;28;01mas\u001b[39;00m\u001b[38;5;250m \u001b[39m\u001b[38;5;21;01mplt\u001b[39;00m\n\u001b[0;32m      2\u001b[0m \u001b[38;5;28;01mimport\u001b[39;00m\u001b[38;5;250m \u001b[39m\u001b[38;5;21;01mnumpy\u001b[39;00m\u001b[38;5;250m \u001b[39m\u001b[38;5;28;01mas\u001b[39;00m\u001b[38;5;250m \u001b[39m\u001b[38;5;21;01mnp\u001b[39;00m\n\u001b[0;32m      3\u001b[0m x \u001b[38;5;241m=\u001b[39m np\u001b[38;5;241m.\u001b[39mlinspace(\u001b[38;5;241m-\u001b[39m\u001b[38;5;241m10\u001b[39m, \u001b[38;5;241m10\u001b[39m, \u001b[38;5;241m100\u001b[39m)\n",
      "\u001b[1;31mModuleNotFoundError\u001b[0m: No module named 'matplotlib'"
     ]
    }
   ],
   "source": [
    "import matplotlib.pyplot as plt\n",
    "import numpy as np\n",
    "x = np.linspace(-10, 10, 100)\n",
    "y1 = x ** 2\n",
    "y2 = np.sin(x)\n",
    "y3 = np.exp(x)\n",
    "y4 = np.log(np.abs(x) + 1)\n",
    "fig, axes = plt.subplots(2, 2, figsize=(12, 8))\n",
    "\n",
    "axes[0, 0].plot(x, y1, color='b', label=\"Y = x²\")\n",
    "axes[0, 0].set_title(\"Y = x²\")\n",
    "axes[0, 0].set_xlabel(\"X values\")\n",
    "axes[0, 0].set_ylabel(\"Y values\")\n",
    "axes[0, 0].legend()\n",
    "axes[0, 0].grid(True)\n",
    "\n",
    "axes[0, 1].plot(x, y2, color='g', label=\"Y = sin(x)\")\n",
    "axes[0, 1].set_title(\"Y = sin(x)\")\n",
    "axes[0, 1].set_xlabel(\"X values\")\n",
    "axes[0, 1].set_ylabel(\"Y values\")\n",
    "axes[0, 1].legend()\n",
    "axes[0, 1].grid(True)\n",
    "\n",
    "axes[1, 0].plot(x, y3, color='r', label=\"Y = e^x\")\n",
    "axes[1, 0].set_title(\"Y = e^x\")\n",
    "axes[1, 0].set_xlabel(\"X values\")\n",
    "axes[1, 0].set_ylabel(\"Y values\")\n",
    "axes[1, 0].legend()\n",
    "axes[1, 0].grid(True)\n",
    "\n",
    "axes[1, 1].plot(x, y4, color='purple', label=\"Y = log(|x| + 1)\")\n",
    "axes[1, 1].set_title(\"Y = log(|x| + 1)\")\n",
    "axes[1, 1].set_xlabel(\"X values\")\n",
    "axes[1, 1].set_ylabel(\"Y values\")\n",
    "axes[1, 1].legend()\n",
    "axes[1, 1].grid(True)\n",
    "\n",
    "plt.suptitle(\"Plots of Mathematical Functions\", fontsize=16)\n",
    "\n",
    "plt.tight_layout()\n",
    "plt.show()\n"
   ]
  }
 ],
 "metadata": {
  "kernelspec": {
   "display_name": "base",
   "language": "python",
   "name": "python3"
  },
  "language_info": {
   "codemirror_mode": {
    "name": "ipython",
    "version": 3
   },
   "file_extension": ".py",
   "mimetype": "text/x-python",
   "name": "python",
   "nbconvert_exporter": "python",
   "pygments_lexer": "ipython3",
   "version": "3.12.8"
  }
 },
 "nbformat": 4,
 "nbformat_minor": 5
}
