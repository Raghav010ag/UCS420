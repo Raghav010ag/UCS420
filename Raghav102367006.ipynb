{
 "cells": [
  {
   "cell_type": "markdown",
   "metadata": {
    "id": "GGUrpb4czA1B"
   },
   "source": [
    "Write a Python program to print \"Anything You find cool.\""
   ]
  },
  {
   "cell_type": "code",
   "execution_count": 1,
   "metadata": {
    "colab": {
     "base_uri": "https://localhost:8080/"
    },
    "id": "LKXrN4czzMLo",
    "outputId": "f971dcde-c060-4dea-b6fa-9eb3bee03d86"
   },
   "outputs": [
    {
     "name": "stdout",
     "output_type": "stream",
     "text": [
      "acdc is the greatest rock band\n"
     ]
    }
   ],
   "source": [
    "print(\"acdc is the greatest rock band\")"
   ]
  },
  {
   "cell_type": "markdown",
   "metadata": {
    "id": "bHlKrLa7zYaM"
   },
   "source": [
    " 2.1 Write a program to add two numbers and print the result."
   ]
  },
  {
   "cell_type": "code",
   "execution_count": 2,
   "metadata": {
    "colab": {
     "base_uri": "https://localhost:8080/"
    },
    "id": "e5cL22MDzi1L",
    "outputId": "9da8fbad-0a8f-4478-b8ef-f22db971d48e"
   },
   "outputs": [
    {
     "name": "stdout",
     "output_type": "stream",
     "text": [
      "33\n"
     ]
    }
   ],
   "source": [
    "a=22\n",
    "b=11\n",
    "print(a+b)"
   ]
  },
  {
   "cell_type": "markdown",
   "metadata": {
    "id": "o1GCLYZVztzZ"
   },
   "source": [
    " 2.2 Write a program to concatenate two strings and print the result."
   ]
  },
  {
   "cell_type": "code",
   "execution_count": 4,
   "metadata": {
    "colab": {
     "base_uri": "https://localhost:8080/"
    },
    "id": "Be9MfQPDzxXJ",
    "outputId": "3e72d22d-fb25-4a6a-cd46-c4d464397a5f"
   },
   "outputs": [
    {
     "name": "stdout",
     "output_type": "stream",
     "text": [
      "Raghav Agrawal\n"
     ]
    }
   ],
   "source": [
    "a= \"Raghav\"\n",
    "b= \" Agrawal\"\n",
    "print(a+b)"
   ]
  },
  {
   "cell_type": "markdown",
   "metadata": {
    "id": "X6Z807bK0Fpx"
   },
   "source": [
    "2.3 Write a program to concatenate a string and a number and print the result."
   ]
  },
  {
   "cell_type": "code",
   "execution_count": 3,
   "metadata": {
    "colab": {
     "base_uri": "https://localhost:8080/"
    },
    "id": "-N0M3Bxk0LIO",
    "outputId": "8f0c5837-08c5-41de-e75a-b83e50c12c48"
   },
   "outputs": [
    {
     "name": "stdout",
     "output_type": "stream",
     "text": [
      "My age is:19\n"
     ]
    }
   ],
   "source": [
    "a=19\n",
    "b=\"My age is:\"\n",
    "print(b+str(a))"
   ]
  },
  {
   "cell_type": "markdown",
   "metadata": {
    "id": "zBF8Mxij0azp"
   },
   "source": [
    " 3.1 Write a Python program to check if a number is positive, negative, or zero\n",
    "using an\n",
    "if-else statement"
   ]
  },
  {
   "cell_type": "code",
   "execution_count": 5,
   "metadata": {
    "colab": {
     "base_uri": "https://localhost:8080/"
    },
    "id": "BhpQ9WH70hHV",
    "outputId": "f2e520a5-3cae-4a92-dd8a-2e4705992ef5"
   },
   "outputs": [
    {
     "name": "stdout",
     "output_type": "stream",
     "text": [
      "number is positive\n"
     ]
    }
   ],
   "source": [
    "a=199\n",
    "if a>0:\n",
    " print(\"number is positive\")\n",
    "elif a<0:\n",
    "  print(\"number is negative\")\n",
    "else:\n",
    "  print(\"number is zero\")"
   ]
  },
  {
   "cell_type": "markdown",
   "metadata": {
    "id": "BiyhUGUO1rya"
   },
   "source": [
    "3.2 Check if a number is odd or even"
   ]
  },
  {
   "cell_type": "code",
   "execution_count": 6,
   "metadata": {
    "colab": {
     "base_uri": "https://localhost:8080/"
    },
    "id": "y4hW3lkS1ugA",
    "outputId": "ed332c4f-ca95-4184-a75a-cd011606c1d9"
   },
   "outputs": [
    {
     "name": "stdout",
     "output_type": "stream",
     "text": [
      "a is odd\n"
     ]
    }
   ],
   "source": [
    "a=85\n",
    "if a%2==0:\n",
    "  print(\"a is even\")\n",
    "else:\n",
    "  print(\"a is odd\")"
   ]
  },
  {
   "cell_type": "markdown",
   "metadata": {
    "id": "JoXBH8-E2AjN"
   },
   "source": [
    " 4.1 Write a program to print numbers from 1 to 10 using a\n",
    "for loop."
   ]
  },
  {
   "cell_type": "code",
   "execution_count": 7,
   "metadata": {
    "colab": {
     "base_uri": "https://localhost:8080/"
    },
    "id": "YmZShc9h2FmC",
    "outputId": "173354cb-4309-4577-80df-1e3c7a71019c"
   },
   "outputs": [
    {
     "name": "stdout",
     "output_type": "stream",
     "text": [
      "1\n",
      "2\n",
      "3\n",
      "4\n",
      "5\n",
      "6\n",
      "7\n",
      "8\n",
      "9\n",
      "10\n"
     ]
    }
   ],
   "source": [
    "for i in range(1,11):\n",
    "  print(i)"
   ]
  },
  {
   "cell_type": "markdown",
   "metadata": {
    "id": "RRPBnnnZ2jfV"
   },
   "source": [
    " 4.2 Write a program to print numbers from 1 to 10 using a\n",
    "while loop."
   ]
  },
  {
   "cell_type": "code",
   "execution_count": 8,
   "metadata": {
    "colab": {
     "base_uri": "https://localhost:8080/"
    },
    "id": "ZeAJVrzF2pRO",
    "outputId": "c4b0407e-7650-4e08-bd44-5bee9a0be922"
   },
   "outputs": [
    {
     "name": "stdout",
     "output_type": "stream",
     "text": [
      "1\n",
      "2\n",
      "3\n",
      "4\n",
      "5\n",
      "6\n",
      "7\n",
      "8\n",
      "9\n",
      "10\n"
     ]
    }
   ],
   "source": [
    "i=1\n",
    "while i<=10:\n",
    "  print(i)\n",
    "  i+=1"
   ]
  },
  {
   "cell_type": "markdown",
   "metadata": {
    "id": "H2s8BfTs3QI0"
   },
   "source": [
    " 4.3 Write a program to calculate the sum of numbers from 1 to 100 using a loop."
   ]
  },
  {
   "cell_type": "code",
   "execution_count": 9,
   "metadata": {
    "colab": {
     "base_uri": "https://localhost:8080/"
    },
    "id": "e_BCT-eC3bKF",
    "outputId": "e921ba4a-ad72-430b-d901-b3cf29bd0e1c"
   },
   "outputs": [
    {
     "name": "stdout",
     "output_type": "stream",
     "text": [
      "5050\n"
     ]
    }
   ],
   "source": [
    "total=0\n",
    "for i in range(1,101):\n",
    "    total += i\n",
    "print (total)"
   ]
  },
  {
   "cell_type": "markdown",
   "metadata": {
    "id": "bFm0Bkqy47ha"
   },
   "source": [
    " 5.1 Create a list of 5 numbers. Write a program to find the largest and smallest\n",
    "numbers in the list."
   ]
  },
  {
   "cell_type": "code",
   "execution_count": 10,
   "metadata": {
    "colab": {
     "base_uri": "https://localhost:8080/"
    },
    "id": "vNT8ICzN4_I_",
    "outputId": "dcc663af-2a26-4cf1-c517-8e8cb723aef9"
   },
   "outputs": [
    {
     "name": "stdout",
     "output_type": "stream",
     "text": [
      "76\n",
      "5\n"
     ]
    }
   ],
   "source": [
    "a=[11,5,42,76,27]\n",
    "print(max(a))\n",
    "print(min(a))"
   ]
  },
  {
   "cell_type": "markdown",
   "metadata": {
    "id": "sDuVZF7e5W8m"
   },
   "source": [
    " 5.2 Create a dictionary with at least 3 key-value pairs. Write a program to retrieve\n",
    "the value of a given key."
   ]
  },
  {
   "cell_type": "code",
   "execution_count": 11,
   "metadata": {
    "colab": {
     "base_uri": "https://localhost:8080/"
    },
    "id": "-SGlrrRX5a_b",
    "outputId": "f01e6275-e458-4e4e-b750-50bd3b9d8f3f"
   },
   "outputs": [
    {
     "name": "stdout",
     "output_type": "stream",
     "text": [
      "Rajesh\n"
     ]
    }
   ],
   "source": [
    "dictionary = {\n",
    "    \"name\":\"Rajesh\",\n",
    "    \"salary\": 33000,\n",
    "    \"country\": \"India\"\n",
    "    }\n",
    "k = \"name\"\n",
    "print( dictionary.get(k))"
   ]
  },
  {
   "cell_type": "markdown",
   "metadata": {
    "id": "l0b2S2QW9Ao5"
   },
   "source": [
    " 5.3 Write a program to sort a list of numbers in ascending and descending order."
   ]
  },
  {
   "cell_type": "code",
   "execution_count": 12,
   "metadata": {
    "colab": {
     "base_uri": "https://localhost:8080/"
    },
    "id": "83oAVTSS9EgV",
    "outputId": "5d41a8f5-b91c-4a13-e030-f1856e4c0af5"
   },
   "outputs": [
    {
     "name": "stdout",
     "output_type": "stream",
     "text": [
      "[21, 35, 41, 243, 635]\n",
      "[635, 243, 41, 35, 21]\n"
     ]
    }
   ],
   "source": [
    "a=[35,41,635,243,21]\n",
    "a.sort()\n",
    "print(a)\n",
    "a.sort(reverse=True)\n",
    "print(a)"
   ]
  },
  {
   "cell_type": "markdown",
   "metadata": {
    "id": "EklaYIKg_qcz"
   },
   "source": [
    " 5.4 Write a program to merge two dictionaries into one."
   ]
  },
  {
   "cell_type": "code",
   "execution_count": 14,
   "metadata": {
    "colab": {
     "base_uri": "https://localhost:8080/"
    },
    "id": "tlOS5UYb_wT9",
    "outputId": "1d3b0e85-a228-44e7-8891-1b9aaf601a8a"
   },
   "outputs": [
    {
     "name": "stdout",
     "output_type": "stream",
     "text": [
      "{'a': 33, 'b': 45, 'c': 182, 'd': 140}\n"
     ]
    }
   ],
   "source": [
    "dict1={\"a\":33, \"b\":45}\n",
    "dict2={\"c\":182, \"d\":140}\n",
    "merged_dict={**dict1,**dict2}\n",
    "print(merged_dict)"
   ]
  },
  {
   "cell_type": "markdown",
   "metadata": {
    "id": "sEOlKCXZBLQO"
   },
   "source": [
    "6.1 Write a program to count the number of vowels in a given string."
   ]
  },
  {
   "cell_type": "code",
   "execution_count": 15,
   "metadata": {
    "colab": {
     "base_uri": "https://localhost:8080/"
    },
    "id": "SeUsziG_BS3t",
    "outputId": "1b7c676d-ced3-4fd2-97c9-0645cde2a2c2"
   },
   "outputs": [
    {
     "name": "stdout",
     "output_type": "stream",
     "text": [
      "Number of vowels: 2\n"
     ]
    }
   ],
   "source": [
    "string = \"raghav\"\n",
    "vowels = \"aeiouAEIOU\"\n",
    "count = sum(1 for char in string if char in vowels)\n",
    "print(\"Number of vowels:\", count)"
   ]
  },
  {
   "cell_type": "markdown",
   "metadata": {
    "id": "thGDRpdsBniN"
   },
   "source": [
    "6.2 Write a program to reverse a string and print it."
   ]
  },
  {
   "cell_type": "code",
   "execution_count": 16,
   "metadata": {
    "colab": {
     "base_uri": "https://localhost:8080/"
    },
    "id": "z1-W_trDCTBL",
    "outputId": "9e8d344f-18e2-4ffe-a5f9-e564dd93fa70"
   },
   "outputs": [
    {
     "name": "stdout",
     "output_type": "stream",
     "text": [
      "vahgaR\n"
     ]
    }
   ],
   "source": [
    "string = \"Raghav\"\n",
    "print(string[::-1])"
   ]
  },
  {
   "cell_type": "markdown",
   "metadata": {
    "id": "ptJn3LaNCXjy"
   },
   "source": [
    "6.3 Write a program to check if a string is a palindrome."
   ]
  },
  {
   "cell_type": "code",
   "execution_count": 17,
   "metadata": {
    "colab": {
     "base_uri": "https://localhost:8080/"
    },
    "id": "-4AfoInyCZdL",
    "outputId": "f92f0a3b-000f-4f0c-db63-0c0442488b9c"
   },
   "outputs": [
    {
     "name": "stdout",
     "output_type": "stream",
     "text": [
      "The string is a palindrome.\n"
     ]
    }
   ],
   "source": [
    "string = \"racecar\"\n",
    "if string == string[::-1]:\n",
    "    print(\"The string is a palindrome.\")\n",
    "else:\n",
    "    print(\"The string is not a palindrome.\")"
   ]
  },
  {
   "cell_type": "markdown",
   "metadata": {
    "id": "I-MOj3jcElsC"
   },
   "source": [
    " 7.1 Write a program to create a text file, write some text into it, and then read and\n",
    "print the content."
   ]
  },
  {
   "cell_type": "code",
   "execution_count": 18,
   "metadata": {
    "colab": {
     "base_uri": "https://localhost:8080/"
    },
    "id": "6AjkeyJZEsPX",
    "outputId": "49f36b85-4524-43b6-893e-2ce88c36cd91"
   },
   "outputs": [
    {
     "name": "stdout",
     "output_type": "stream",
     "text": [
      "File content: hello world\n"
     ]
    }
   ],
   "source": [
    "with open(\"sample.txt\", \"w\") as file:\n",
    "    file.write(\"hello world\")\n",
    "with open(\"sample.txt\", \"r\") as file:\n",
    "    content = file.read()\n",
    "print(\"File content:\", content)"
   ]
  },
  {
   "cell_type": "markdown",
   "metadata": {
    "id": "oHWDX0XiFrGq"
   },
   "source": [
    " 7.2 Write a program to append text to an existing file and print the updated\n",
    "content."
   ]
  },
  {
   "cell_type": "code",
   "execution_count": 1,
   "metadata": {
    "colab": {
     "base_uri": "https://localhost:8080/"
    },
    "id": "HWJxpp2DFusA",
    "outputId": "fe50e141-829c-4e10-ffe4-9fd699309507"
   },
   "outputs": [
    {
     "name": "stdout",
     "output_type": "stream",
     "text": [
      "Updated content: hello world This is my assignment\n"
     ]
    }
   ],
   "source": [
    "with open(\"sample.txt\", \"a\") as file:\n",
    "    file.write(\" This is my assignment\")\n",
    "with open(\"sample.txt\", \"r\") as file:\n",
    "    content = file.read()\n",
    "print(\"Updated content:\", content)"
   ]
  },
  {
   "cell_type": "markdown",
   "metadata": {
    "id": "oIWsfEzbGUP4"
   },
   "source": [
    " 7.3 Write a program to count the number of lines in a text file"
   ]
  },
  {
   "cell_type": "code",
   "execution_count": 2,
   "metadata": {
    "colab": {
     "base_uri": "https://localhost:8080/"
    },
    "id": "E1cOZNS0GXni",
    "outputId": "69ca5b61-4221-444f-9987-b345dfcb3bc4"
   },
   "outputs": [
    {
     "name": "stdout",
     "output_type": "stream",
     "text": [
      "Number of lines: 1\n"
     ]
    }
   ],
   "source": [
    "with open(\"sample.txt\", \"r\") as file:\n",
    "    lines = file.readlines()\n",
    "print(\"Number of lines:\", len(lines))"
   ]
  },
  {
   "cell_type": "markdown",
   "metadata": {
    "id": "pSWvlcKDGc5g"
   },
   "source": [
    " 8.1 Write a program to handle division by zero using a\n",
    "try-except block."
   ]
  },
  {
   "cell_type": "code",
   "execution_count": 3,
   "metadata": {
    "colab": {
     "base_uri": "https://localhost:8080/"
    },
    "id": "Gq6hW-2vGg-9",
    "outputId": "276f859d-cc75-402f-dd37-1dc5bfdfd7b8"
   },
   "outputs": [
    {
     "name": "stdout",
     "output_type": "stream",
     "text": [
      "Division by zero is not allowed.\n"
     ]
    }
   ],
   "source": [
    "try:\n",
    "    result = 10 / 0\n",
    "except ZeroDivisionError:\n",
    "    print(\"Division by zero is not allowed.\")"
   ]
  },
  {
   "cell_type": "markdown",
   "metadata": {
    "id": "0fwYwLLtGmAC"
   },
   "source": [
    " 8.2 Write a program to handle invalid input (e.g., when the user enters a string\n",
    "instead of a number)"
   ]
  },
  {
   "cell_type": "code",
   "execution_count": 2,
   "metadata": {
    "colab": {
     "base_uri": "https://localhost:8080/"
    },
    "id": "RH6vSJ_NGr8H",
    "outputId": "d3d24c6c-df11-4dae-ce49-75efafc846cc"
   },
   "outputs": [
    {
     "name": "stdout",
     "output_type": "stream",
     "text": [
      "You have entered: 77\n"
     ]
    }
   ],
   "source": [
    "try:\n",
    "    number = int(input(\"Enter a number:\"))\n",
    "    print(\"You have entered:\", number)\n",
    "except ValueError:\n",
    "    print(\"Invalid input, please enter a number.\")"
   ]
  },
  {
   "cell_type": "markdown",
   "metadata": {
    "id": "JG38mLffG1Aq"
   },
   "source": [
    " 8.3 Write a program to demonstrate the use of\n",
    "finally in exception handling."
   ]
  },
  {
   "cell_type": "code",
   "execution_count": 3,
   "metadata": {
    "colab": {
     "base_uri": "https://localhost:8080/"
    },
    "id": "Ps0QIRuEG4Ey",
    "outputId": "7d072a9f-db7d-4a3e-dcf4-4bcad784c24b"
   },
   "outputs": [
    {
     "name": "stdout",
     "output_type": "stream",
     "text": [
      "This block always executes\n"
     ]
    }
   ],
   "source": [
    "try:\n",
    "    result = 15/3\n",
    "finally:\n",
    "    print(\"This block always executes\")"
   ]
  },
  {
   "cell_type": "markdown",
   "metadata": {
    "id": "5rxSUDZYG9H-"
   },
   "source": [
    " 9.1 Write a program to generate 5 random numbers between 1 and 100 and print\n",
    "them."
   ]
  },
  {
   "cell_type": "code",
   "execution_count": 4,
   "metadata": {
    "colab": {
     "base_uri": "https://localhost:8080/"
    },
    "id": "S1JhNEIMHJT2",
    "outputId": "feb4d47d-cb76-4853-ba60-ccad7369c347"
   },
   "outputs": [
    {
     "name": "stdout",
     "output_type": "stream",
     "text": [
      "Random numbers: [84, 19, 36, 41, 52]\n"
     ]
    }
   ],
   "source": [
    "import random\n",
    "print(\"Random numbers:\", [random.randint(1, 100) for _ in range(5)])"
   ]
  },
  {
   "cell_type": "markdown",
   "metadata": {
    "id": "05vMojmzHUqH"
   },
   "source": [
    " 9.2 Write a program to generate a random number and check if it is prime."
   ]
  },
  {
   "cell_type": "code",
   "execution_count": 5,
   "metadata": {
    "colab": {
     "base_uri": "https://localhost:8080/"
    },
    "id": "34Ss5TAOHaAF",
    "outputId": "0dbd477e-2a98-4d59-aadb-28c8096cfb87"
   },
   "outputs": [
    {
     "name": "stdout",
     "output_type": "stream",
     "text": [
      "Random number 69 is prime: False\n"
     ]
    }
   ],
   "source": [
    "number = random.randint(1, 100)\n",
    "is_prime = all(number % i != 0 for i in range(2, int(number**0.5) + 1)) and number > 1\n",
    "print(f\"Random number {number} is prime:\", is_prime)\n"
   ]
  },
  {
   "cell_type": "markdown",
   "metadata": {
    "id": "WF0aUSY5HhYu"
   },
   "source": [
    " 9.3 Write a program to simulate rolling a six-sided die."
   ]
  },
  {
   "cell_type": "code",
   "execution_count": 6,
   "metadata": {
    "colab": {
     "base_uri": "https://localhost:8080/"
    },
    "id": "kXy_oPQ6HkyD",
    "outputId": "0c757f1a-226e-402f-c799-a9d33d817137"
   },
   "outputs": [
    {
     "name": "stdout",
     "output_type": "stream",
     "text": [
      "Rolled die: 4\n"
     ]
    }
   ],
   "source": [
    "print(\"Rolled die:\", random.randint(1, 6))"
   ]
  },
  {
   "cell_type": "markdown",
   "metadata": {
    "id": "8QYV8YQJHrun"
   },
   "source": [
    "9.4 Write a program to shuffle a list of numbers."
   ]
  },
  {
   "cell_type": "code",
   "execution_count": 7,
   "metadata": {
    "colab": {
     "base_uri": "https://localhost:8080/"
    },
    "id": "0FG5_JFJHx2z",
    "outputId": "f5783337-02e4-4316-a4c2-7f72acc5344a"
   },
   "outputs": [
    {
     "name": "stdout",
     "output_type": "stream",
     "text": [
      "Shuffled list: [44, 55, 11, 22, 33]\n"
     ]
    }
   ],
   "source": [
    "numbers = [11, 22, 33, 44, 55]\n",
    "random.shuffle(numbers)\n",
    "print(\"Shuffled list:\", numbers)"
   ]
  },
  {
   "cell_type": "markdown",
   "metadata": {
    "id": "YQtaSYiDICiO"
   },
   "source": [
    " 9.5 Write a program to randomly select an item from a list."
   ]
  },
  {
   "cell_type": "code",
   "execution_count": 8,
   "metadata": {
    "colab": {
     "base_uri": "https://localhost:8080/"
    },
    "id": "VqlAbo_FIFYQ",
    "outputId": "4a40d647-f135-435a-c728-105452eeaca2"
   },
   "outputs": [
    {
     "name": "stdout",
     "output_type": "stream",
     "text": [
      "Random item: 22\n"
     ]
    }
   ],
   "source": [
    "print(\"Random item:\", random.choice(numbers))"
   ]
  },
  {
   "cell_type": "markdown",
   "metadata": {
    "id": "PsbO5lJZINTV"
   },
   "source": [
    "9.6 Write a program to generate a random password of given length."
   ]
  },
  {
   "cell_type": "code",
   "execution_count": 10,
   "metadata": {
    "colab": {
     "base_uri": "https://localhost:8080/"
    },
    "id": "MMNqVnvQIOOi",
    "outputId": "a7780faf-d63c-4925-ef88-745c091cdc7b"
   },
   "outputs": [
    {
     "name": "stdout",
     "output_type": "stream",
     "text": [
      "Random password: wdflfij\n"
     ]
    }
   ],
   "source": [
    "length = 7\n",
    "password = ''.join(random.choices(\"abcdefghijklmnopqrstuvwxyz\", k=length))\n",
    "print(\"Random password:\", password)\n"
   ]
  },
  {
   "cell_type": "markdown",
   "metadata": {
    "id": "HMALGYQYIb4s"
   },
   "source": [
    "9.7 Write a program to pick a random card from a standard deck of 52 cards."
   ]
  },
  {
   "cell_type": "code",
   "execution_count": 11,
   "metadata": {
    "colab": {
     "base_uri": "https://localhost:8080/"
    },
    "id": "6xMRHfmWIco4",
    "outputId": "7f65a29e-60b8-4114-f39d-e99eda436005"
   },
   "outputs": [
    {
     "name": "stdout",
     "output_type": "stream",
     "text": [
      "Random card: 6 of Diamonds\n"
     ]
    }
   ],
   "source": [
    "suits = [\"Hearts\", \"Diamonds\", \"Clubs\", \"Spades\"]\n",
    "ranks = [\"2\", \"3\", \"4\", \"5\", \"6\", \"7\", \"8\", \"9\", \"10\", \"Jack\", \"Queen\", \"King\", \"Ace\"]\n",
    "card = f\"{random.choice(ranks)} of {random.choice(suits)}\"\n",
    "print(\"Random card:\", card)"
   ]
  },
  {
   "cell_type": "markdown",
   "metadata": {
    "id": "Pu9ciuU-Iihc"
   },
   "source": [
    "10.1 Write a program to accept two numbers as command-line arguments, add\n",
    "them, and print the result."
   ]
  },
  {
   "cell_type": "code",
   "execution_count": 25,
   "metadata": {
    "colab": {
     "base_uri": "https://localhost:8080/"
    },
    "id": "T-FT8C_YIl0e",
    "outputId": "da56e32f-d4fa-468c-fbfc-f3980e477bc0"
   },
   "outputs": [
    {
     "name": "stdout",
     "output_type": "stream",
     "text": [
      "Usage: python script_name.py  \n"
     ]
    },
    {
     "ename": "SystemExit",
     "evalue": "1",
     "output_type": "error",
     "traceback": [
      "An exception has occurred, use %tb to see the full traceback.\n",
      "\u001b[1;31mSystemExit\u001b[0m\u001b[1;31m:\u001b[0m 1\n"
     ]
    }
   ],
   "source": [
    "\n",
    "import sys\n",
    "\n",
    "if len(sys.argv) != 3:\n",
    "  print(\"Usage: python script_name.py  \")\n",
    "  sys.exit(1)\n",
    "number1 = float(sys.argv[1])\n",
    "number2 = float(sys.argv[2])\n",
    "result = number1 + number2\n",
    "print(f'Sum of {number1} and {number2} is {result}')"
   ]
  },
  {
   "cell_type": "markdown",
   "metadata": {
    "id": "FZefRrztI6p4"
   },
   "source": [
    " 10.2 Write a program to accept a string as a command-line argument and print its\n",
    "length."
   ]
  },
  {
   "cell_type": "code",
   "execution_count": 18,
   "metadata": {
    "id": "6FYlmlYrI-Gs"
   },
   "outputs": [
    {
     "name": "stdout",
     "output_type": "stream",
     "text": [
      "String length of '--f=c:\\Users\\ragha\\AppData\\Roaming\\jupyter\\runtime\\kernel-v38d9fda53c1ed72c805bffdf7753274bc78a76908.json' is 105\n"
     ]
    }
   ],
   "source": [
    "\n",
    "import sys\n",
    "\n",
    "if (len(sys.argv) != 2):\n",
    "  print(\"Usage: pyhton script_name.py \")\n",
    "  sys.exit(1)\n",
    "input_string = sys.argv[1]\n",
    "string_length = len(input_string)\n",
    "print(f\"String length of '{input_string}' is {string_length}\")"
   ]
  },
  {
   "cell_type": "markdown",
   "metadata": {
    "id": "_VQbQhMaJQ9N"
   },
   "source": [
    " 11.1 Write a program to use the\n",
    "math library to calculate the square root of a given\n",
    "number."
   ]
  },
  {
   "cell_type": "code",
   "execution_count": 19,
   "metadata": {
    "colab": {
     "base_uri": "https://localhost:8080/"
    },
    "id": "G69J1lfRJXlN",
    "outputId": "8a20dfff-9682-467d-e8ae-af36bcf6a659"
   },
   "outputs": [
    {
     "name": "stdout",
     "output_type": "stream",
     "text": [
      "Square root: 8.0\n"
     ]
    }
   ],
   "source": [
    "import math\n",
    "import datetime\n",
    "import os\n",
    "number = 64\n",
    "print(\"Square root:\", math.sqrt(number))"
   ]
  },
  {
   "cell_type": "markdown",
   "metadata": {
    "id": "VuzrQ8-kJfcq"
   },
   "source": [
    " 11.2 Write a program to use the\n",
    "datetime library to print the current date and time"
   ]
  },
  {
   "cell_type": "code",
   "execution_count": 20,
   "metadata": {
    "colab": {
     "base_uri": "https://localhost:8080/"
    },
    "id": "cveQaLFoJjID",
    "outputId": "e0d18866-c48e-45b8-a4b0-ae0435af4da4"
   },
   "outputs": [
    {
     "name": "stdout",
     "output_type": "stream",
     "text": [
      "Current date and time: 2025-01-13 18:56:51.766510\n"
     ]
    }
   ],
   "source": [
    "print(\"Current date and time:\", datetime.datetime.now())"
   ]
  },
  {
   "cell_type": "markdown",
   "metadata": {
    "id": "RxAcVhWOJskG"
   },
   "source": [
    "11.3 Write a program to use the\n",
    "os library to list all files in the current directory"
   ]
  },
  {
   "cell_type": "code",
   "execution_count": 21,
   "metadata": {
    "colab": {
     "base_uri": "https://localhost:8080/"
    },
    "id": "-8hgryAUJvAU",
    "outputId": "e4b3804d-dd55-421f-a341-876da78b52a3"
   },
   "outputs": [
    {
     "name": "stdout",
     "output_type": "stream",
     "text": [
      "Files in the current directory: ['1. Introduction.pdf', '10. Graphs-20241112.zip', '101903323_Yuvraj_Singh_MED4.docx', '101903323_Yuvraj_SIngh_MED_3__.docx', '1718384485604.jpg', '3. Asymptotic Notations.pdf', '6. EM Waves.pdf', 'archive 1.mp4', 'Assignment2orignal.pdf', 'Assignment_3.pdf', 'Assignment_4.pdf', 'AVL Trees.pdf', 'Basic Logic.pdf', 'Binary Search Tree (1).pdf', 'Binary Search Tree.pdf', 'ChromeSetup.exe', 'Cloudflare_WARP_2024.9.346.0 (1).msi', 'Cloudflare_WARP_2024.9.346.0.msi', 'configuration-Office365-x64.xml', 'configuration.xml', 'Data structures using C, 2nd Ed. by Thareja, Reema (2014).pdf', 'desktop.ini', 'Doubly and Circular Linked List (1).pdf', 'Doubly and Circular Linked List.pdf', 'ECED_Assignment-1 Naman Chhabra (1).docx', 'ECED_Assignment-1 Naman Chhabra.docx', 'ECED_Assignment-1 Naman Chhabra.pdf', 'ECED_Assignment-1.pdf', 'ECED_Assignment-2 Naman Chhabra.docx', 'ECED_Assignment-2 Naman Chhabra.pdf', 'ECED_Assignment-2.pdf', 'ECED_Assignment-3 Naman Chhabra.pdf', 'ECED_Assignment-4.docx', 'ECED_Assignment-4.pdf', 'First draft.rtf', 'fixed point (1).pdf', 'fixed point.pdf', 'github-recovery-codes.txt', 'GitHubDesktopSetup-x64.exe', 'GrammarlyInstaller.cCWk4xc8xaeo923j94fo0382.exe', 'Graphs - Introduction, Representation, Search.pdf', 'Graphs - Minimum Spanning Tree (1).pdf', 'Graphs - Minimum Spanning Tree.pdf', 'Graphs - Shortest Path Algorithms.pdf', 'Growth of Functions (1).pptx', 'Growth of Functions (2).pptx', 'Growth of Functions.pptx', 'Guri-The Wounds of Innocence-1.docx', 'IMG_0490.HEIC', 'IMG_0497.MOV', 'IMG_0501.HEIC', 'IMG_0504.MOV', 'IMG_2367.pdf', 'IMG_6910.MOV', 'jre-8u411-windows-x64.exe', 'L 1.pdf', 'L 2.pdf', 'L15 CASTING_INTRO.pdf', 'L16_PATTERN.pdf', 'L17_MOULD  GATING SYSTEM.pdf', 'L18_CORE  CHAPLETS.pdf', 'L19_ Pouring and Solidifications.pdf', 'L20_Centrifugal Casting.pdf', 'L21_Die Casting.pdf', 'L22_CASTING_DEFECTS.pdf', 'L23_WELDING INTRO  Arc Welding.pdf', 'L24A_MMAW or SMAW.pdf', 'L24B_GTAW.pdf', 'L25A_GMAW.pdf', 'L25B_SAW.pdf', 'L26_RESISTANCE Welding.pdf', 'L27A_Power Characteristics.pdf', 'L27B_SOLDERING_Brazing.pdf', 'L28 A_Additive Manufacturing.pdf', 'L28 B_IoT in Manufacturing.pdf', 'L29 A_Automation in Manufacturing.pdf', 'L29 B_Robotics in Manufacturing.pdf', 'L3.pdf', 'L4.pdf', 'Lab Assignment 5 UTA018.docx', 'Lattice (1).pptx', 'Lattice.pptx', 'Lecture -Diffraction.pdf', 'Lecture- Interference.pdf', 'Mangonel Lecture 1.pdf', 'Mangonel Lecture 2.pdf', 'Mangonel Lecture 3.pdf', 'Mangonel Lecture 4.pdf', 'matlab_R2024a_Windows.exe', 'mingw-get-setup.exe', 'node-v20.14.0-x64.msi', 'non linear equations (1).pdf', 'non linear equations.pdf', 'officedeploymenttool_18129-20030.exe', 'oops by Raghav .pdf', 'OPERATOR OVERLOADING UTA018.pptx', 'PRANKED.pdf', 'python-3.12.4-amd64.exe', 'Raghav Agrawal 102367006.ipynb', 'Raghav102367006.ipynb', 'Recurrence Relation.pptx', 'Relation_Closure (1).pptx', 'Relation_Closure.pptx', 'rosen_discrete_mathematics_and_its_applications_7th_edition.pdf', 'sample.txt', 'screenplay.docx', 'setup.exe', 'Single Linked List.pdf', 'SlideSet_2.pptx', 'Sparse_trip_Transpose.docx', 'Stacks.pdf', 'Syllabus.pdf', 'Tree Terminology.pdf', 'tut 4 1b1.pdf', 'tut sheet 3 sol.pdf', 'Tut sheet-1 (1) partial diffrentiation.pdf', 'Tut sheet-2 partial diffrentiation.pdf', 'Tut4(ED).pdf', 'Tutorial 5 Solution.pdf', 'Tutorial sheet-3_f7bc284ed1e4e475762f31cabaee36a5.pdf', 'Tutorial sheet-4_5a46d2797c07526622fc346ff5dd9ebe.pdf', 'Tutorial sheet-5-1_ddc322b282f732bd77e3d82df58934ea.pdf', 'Tutorial sheet-6_a475ccedb812706f4610089199000783.pdf', 'tutorial-sheet-7_4a576ab91c8fbf103e31665c956e3e7c.pdf', 'ubuntu-24.04-desktop-amd64.iso', 'UCS301 (1).PDF', 'UCS301.PDF', 'UCS405_Quiz_2_12_09_2022 (2) (1).pdf', 'UCS405_Quiz_2_12_09_2022 (2).pdf', 'UES102.PDF', 'UMA021_TUT-I.pdf', 'Unconfirmed 276828.crdownload', 'UTA018 1.pptx', 'UTA018 2.pptx', 'UTA018 2nd Year Syllabus.pdf', 'UTA018 3.pptx', 'VC_redist.x64.exe', 'VMware-workstation-full-17.5.2-23775571.exe', 'VSCodeUserSetup-x64-1.90.1.exe', 'WhatsApp Image 2024-09-05 at 10.06.36.jpeg', 'WhatsApp Image 2024-09-05 at 10.07.03.jpeg', 'WhatsApp Installer.exe', '_temp_matlab_R2024a_Windows']\n"
     ]
    }
   ],
   "source": [
    "print(\"Files in the current directory:\", os.listdir(\".\"))"
   ]
  }
 ],
 "metadata": {
  "colab": {
   "name": "Welcome To Colab",
   "provenance": [],
   "toc_visible": true
  },
  "kernelspec": {
   "display_name": "Python 3",
   "name": "python3"
  },
  "language_info": {
   "codemirror_mode": {
    "name": "ipython",
    "version": 3
   },
   "file_extension": ".py",
   "mimetype": "text/x-python",
   "name": "python",
   "nbconvert_exporter": "python",
   "pygments_lexer": "ipython3",
   "version": "3.12.4"
  }
 },
 "nbformat": 4,
 "nbformat_minor": 0
}
