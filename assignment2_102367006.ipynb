{
 "cells": [
  {
   "cell_type": "markdown",
   "id": "8bee91f5-abee-4549-a596-9aa3948ee8e3",
   "metadata": {},
   "source": [
    "**1. Create a List L that is defined as [10, 20, 30, 40, 50, 60, 70, 80]**\n",
    "\n",
    "i. WAP to add 200 and 300 to L.\n",
    "ii. WAP to remove 10 and 30 from L.\n",
    "iii. WAP to sort L in ascending order.\n",
    "iv. WAP to sort L in descending order."
   ]
  },
  {
   "cell_type": "code",
   "execution_count": 2,
   "id": "6d79ded6-1f27-4e49-913e-8958ceb68ed1",
   "metadata": {},
   "outputs": [
    {
     "name": "stdout",
     "output_type": "stream",
     "text": [
      "[10, 20, 30, 40, 50, 60, 70, 80]\n"
     ]
    }
   ],
   "source": [
    "L = [10, 20, 30, 40, 50, 60, 70, 80]\n",
    "print(L)"
   ]
  },
  {
   "cell_type": "code",
   "execution_count": 3,
   "id": "86e43a50-3821-4b70-bdf8-cff2b20330e1",
   "metadata": {},
   "outputs": [
    {
     "name": "stdout",
     "output_type": "stream",
     "text": [
      "[10, 20, 30, 40, 50, 60, 70, 80, 200, 300]\n"
     ]
    }
   ],
   "source": [
    "#i)\n",
    "L.append(200)\n",
    "L.append(300)\n",
    "print(L)"
   ]
  },
  {
   "cell_type": "code",
   "execution_count": 4,
   "id": "dd032a8b-ced1-4761-bac8-7a0982ca46f1",
   "metadata": {},
   "outputs": [
    {
     "name": "stdout",
     "output_type": "stream",
     "text": [
      "[20, 40, 50, 60, 70, 80, 200, 300]\n"
     ]
    }
   ],
   "source": [
    "#ii)\n",
    "L.remove(10)\n",
    "L.remove(30)\n",
    "print(L)"
   ]
  },
  {
   "cell_type": "code",
   "execution_count": 5,
   "id": "8a1cba5f-7543-4b4e-90cb-03bf740c4901",
   "metadata": {},
   "outputs": [
    {
     "name": "stdout",
     "output_type": "stream",
     "text": [
      "[20, 40, 50, 60, 70, 80, 200, 300]\n"
     ]
    }
   ],
   "source": [
    "#iii)\n",
    "L.sort()\n",
    "print(L)"
   ]
  },
  {
   "cell_type": "code",
   "execution_count": 6,
   "id": "34f1f070-015d-4fc0-b2a8-cca00af6ca97",
   "metadata": {},
   "outputs": [
    {
     "name": "stdout",
     "output_type": "stream",
     "text": [
      "[300, 200, 80, 70, 60, 50, 40, 20]\n"
     ]
    }
   ],
   "source": [
    "#iv)\n",
    "L.sort(reverse=True)\n",
    "print(L)"
   ]
  },
  {
   "cell_type": "markdown",
   "id": "3cf1789c-6fa9-4019-91c7-c3a4b1fb2001",
   "metadata": {},
   "source": [
    "**2. Create a tuple of marks scored as scores = (45, 89.5, 76, 45.4, 89, 92, 58, 45) and perform the following operations using tuple functions:**\n",
    "\n",
    "i. Identify the highest score and its index in the tuple.\n",
    "\n",
    "ii. Find the lowest score and count how many times it appears.\n",
    "\n",
    "iii. Reverse the tuple and return it as a list.\n",
    "\n",
    "iv. Check if a specific score ‘76’ (input by the user) is present in the tuple and print its first occurrence index, or a message saying it’s not present."
   ]
  },
  {
   "cell_type": "code",
   "execution_count": 2,
   "id": "13a27395-b550-491c-ba91-0be8fea0c30a",
   "metadata": {},
   "outputs": [
    {
     "name": "stdout",
     "output_type": "stream",
     "text": [
      "(45, 89.5, 76, 45.4, 89, 92, 58, 45)\n"
     ]
    }
   ],
   "source": [
    "t = (45, 89.5, 76, 45.4, 89, 92, 58, 45)\n",
    "print(t)"
   ]
  },
  {
   "cell_type": "code",
   "execution_count": 3,
   "id": "ac60f22c-fe74-48fc-8839-baafdc01285e",
   "metadata": {},
   "outputs": [
    {
     "name": "stdout",
     "output_type": "stream",
     "text": [
      "Highest Score: 92  Index: 5\n"
     ]
    }
   ],
   "source": [
    "#i)i \n",
    "highest = max(t)\n",
    "index = t.index(highest)\n",
    "print(\"Highest Score:\", highest, \" Index:\", index)"
   ]
  },
  {
   "cell_type": "code",
   "execution_count": 5,
   "id": "dc84fb5a-c6df-4dd3-adba-99330866e416",
   "metadata": {},
   "outputs": [
    {
     "name": "stdout",
     "output_type": "stream",
     "text": [
      "Lowest Score: 45  Appearance: 2 times\n"
     ]
    }
   ],
   "source": [
    "#ii)\n",
    "lowest = min(t)\n",
    "times = t.count(lowest)\n",
    "print(\"Lowest Score:\", lowest, \" Appearance:\", times, \"times\")"
   ]
  },
  {
   "cell_type": "code",
   "execution_count": 6,
   "id": "aed7b34c-03fa-4e01-9a0c-726f49a2b636",
   "metadata": {},
   "outputs": [
    {
     "name": "stdout",
     "output_type": "stream",
     "text": [
      "[45, 58, 92, 89, 45.4, 76, 89.5, 45]\n"
     ]
    }
   ],
   "source": [
    "#iii)\n",
    "tl = list(reversed(t))\n",
    "print(tl)"
   ]
  },
  {
   "cell_type": "code",
   "execution_count": 7,
   "id": "cebd1fe5-09f4-4b27-9b81-dd52822773bb",
   "metadata": {},
   "outputs": [
    {
     "name": "stdout",
     "output_type": "stream",
     "text": [
      "The score is not present!\n"
     ]
    }
   ],
   "source": [
    "i = float(input(\"Enter the score to check: \"))\n",
    "if i in t:\n",
    "    print(\"Score present in index:\", t.index(i))\n",
    "else:\n",
    "    print(\"The score is not present!\")"
   ]
  },
  {
   "cell_type": "markdown",
   "id": "0e1be7e0-ed38-4121-851e-3adfd3a06c00",
   "metadata": {},
   "source": [
    "**3. WAP to create a list of 100 random numbers between 100 and 900. Count and print the:**\n",
    "i. All odd numbers\n",
    "ii. All even numbers\n",
    "iii. All prime numbers"
   ]
  },
  {
   "cell_type": "code",
   "execution_count": 9,
   "id": "bbcf70af-8531-4808-86c0-4eccc08538db",
   "metadata": {},
   "outputs": [
    {
     "name": "stdout",
     "output_type": "stream",
     "text": [
      "[775, 827, 385, 841, 881, 252, 546, 352, 682, 601, 611, 882, 590, 138, 122, 655, 509, 291, 214, 699, 410, 256, 289, 717, 201, 765, 376, 348, 213, 681, 592, 761, 373, 740, 631, 132, 812, 367, 279, 501, 708, 628, 113, 496, 149, 796, 470, 341, 179, 397, 626, 235, 410, 112, 520, 806, 420, 167, 710, 291, 824, 253, 524, 879, 528, 817, 505, 870, 661, 599, 234, 445, 140, 288, 228, 687, 188, 557, 184, 523, 727, 396, 322, 134, 288, 401, 328, 527, 312, 357, 612, 816, 759, 189, 468, 863, 447, 797, 685, 256]\n"
     ]
    }
   ],
   "source": [
    "import random\n",
    "L = [random.randint(100, 900) for i in range(0, 100)]\n",
    "print(L)"
   ]
  },
  {
   "cell_type": "code",
   "execution_count": 12,
   "id": "5f703cda-8d57-44b0-beea-284fbc7e3c43",
   "metadata": {},
   "outputs": [
    {
     "name": "stdout",
     "output_type": "stream",
     "text": [
      "Odd numbers in L:\n",
      "[775, 827, 385, 841, 881, 601, 611, 655, 509, 291, 699, 289, 717, 201, 765, 213, 681, 761, 373, 631, 367, 279, 501, 113, 149, 341, 179, 397, 235, 167, 291, 253, 879, 817, 505, 661, 599, 445, 687, 557, 523, 727, 401, 527, 357, 759, 189, 863, 447, 797, 685]\n",
      "The number of odd numbers: 51\n"
     ]
    }
   ],
   "source": [
    "#i) \n",
    "count = 0\n",
    "Odd = []\n",
    "for i in L:\n",
    "    if i % 2 != 0:\n",
    "        Odd.append(i)\n",
    "        count += 1\n",
    "print(\"Odd numbers in L:\")\n",
    "print(Odd)\n",
    "print(\"The number of odd numbers:\", count)"
   ]
  },
  {
   "cell_type": "code",
   "execution_count": 11,
   "id": "4a430b9c-88e0-4659-9919-0cbed8ed9778",
   "metadata": {},
   "outputs": [
    {
     "name": "stdout",
     "output_type": "stream",
     "text": [
      "Even numbers in L:\n",
      "[252, 546, 352, 682, 882, 590, 138, 122, 214, 410, 256, 376, 348, 592, 740, 132, 812, 708, 628, 496, 796, 470, 626, 410, 112, 520, 806, 420, 710, 824, 524, 528, 870, 234, 140, 288, 228, 188, 184, 396, 322, 134, 288, 328, 312, 612, 816, 468, 256]\n",
      "The number of even numbers: 49\n"
     ]
    }
   ],
   "source": [
    "#ii)\n",
    "count = 0\n",
    "Even = []\n",
    "for i in L:\n",
    "    if i % 2 == 0:\n",
    "        Even.append(i)\n",
    "        count += 1\n",
    "print(\"Even numbers in L:\")\n",
    "print(Even)\n",
    "print(\"The number of even numbers:\", count)"
   ]
  },
  {
   "cell_type": "code",
   "execution_count": 13,
   "id": "dac5fbc0-6957-4f81-9eab-d8bf797a1631",
   "metadata": {},
   "outputs": [
    {
     "name": "stdout",
     "output_type": "stream",
     "text": [
      "Prime numbers in L:\n",
      "[827, 881, 601, 509, 761, 373, 631, 367, 113, 149, 179, 397, 167, 661, 599, 557, 523, 727, 401, 863, 797]\n",
      "The number of prime numbers: 21\n"
     ]
    }
   ],
   "source": [
    "#iii)\n",
    "count = 0\n",
    "P = []\n",
    "for x in L:\n",
    "    is_prime = True\n",
    "    for i in range(2, int(x ** 0.5) + 1):\n",
    "        if x % i == 0:\n",
    "            is_prime = False\n",
    "            break\n",
    "    if is_prime:\n",
    "        P.append(x)\n",
    "        count += 1\n",
    "print(\"Prime numbers in L:\")\n",
    "print(P)\n",
    "print(\"The number of prime numbers:\", count)"
   ]
  },
  {
   "cell_type": "markdown",
   "id": "d2f9873f-139d-4e7c-a798-d8e9dae57999",
   "metadata": {},
   "source": [
    "**4. Consider the following two sets, A and B, representing scores of two teams in multiple matches. A = {34, 56, 78, 90} and B = {78, 45, 90, 23} WAP to perform the following operations using set functions:**\n",
    "\n",
    "i. Find the unique scores achieved by both teams (union of sets).\n",
    "\n",
    "ii. Identify the scores that are common to both teams (intersection of sets).\n",
    "\n",
    "iii. Find the scores that are exclusive to each team (symmetric difference).\n",
    "\n",
    "iv. Check if the scores of team A are a subset of team B, and if team B's scores are a superset of team A.\n",
    "\n",
    "v. Remove a specific score X (input by the user) from set A if it exists. If not, print a message saying it is not present."
   ]
  },
  {
   "cell_type": "code",
   "execution_count": 16,
   "id": "e614817b-8a2f-42a6-9baf-f3d52029dc91",
   "metadata": {},
   "outputs": [
    {
     "name": "stdout",
     "output_type": "stream",
     "text": [
      "Team A: {56, 34, 90, 78}\n",
      "Team B: {90, 45, 78, 23}\n"
     ]
    }
   ],
   "source": [
    "A = {34, 56, 78, 90}\n",
    "B = {78, 45, 90, 23}\n",
    "print(\"Team A:\", A)\n",
    "print(\"Team B:\", B)"
   ]
  },
  {
   "cell_type": "code",
   "execution_count": 17,
   "id": "019c09cb-d6c0-47b9-8fdc-065fe8a79033",
   "metadata": {},
   "outputs": [
    {
     "name": "stdout",
     "output_type": "stream",
     "text": [
      "Unique score achieved by both teams: {34, 45, 78, 23, 56, 90}\n"
     ]
    }
   ],
   "source": [
    "#i)\n",
    "print(\"Unique score achieved by both teams:\", A|B)"
   ]
  },
  {
   "cell_type": "code",
   "execution_count": 18,
   "id": "858b671f-15f9-4592-9372-e0b6d4dca394",
   "metadata": {},
   "outputs": [
    {
     "name": "stdout",
     "output_type": "stream",
     "text": [
      "Common score by both teams: {90, 78}\n"
     ]
    }
   ],
   "source": [
    "#ii)\n",
    "print(\"Common score by both teams:\", A&B)"
   ]
  },
  {
   "cell_type": "code",
   "execution_count": 19,
   "id": "b60ee89b-00d2-49a9-b3c9-80d2d3f1a5a6",
   "metadata": {},
   "outputs": [
    {
     "name": "stdout",
     "output_type": "stream",
     "text": [
      "Exclusive score to team A: {56, 34}\n",
      "Exclusive score to team B: {45, 23}\n"
     ]
    }
   ],
   "source": [
    "#iii)\n",
    "print(\"Exclusive score to team A:\", A-B)\n",
    "print(\"Exclusive score to team B:\", B-A)"
   ]
  },
  {
   "cell_type": "code",
   "execution_count": 20,
   "id": "cb9f1728-49e9-4557-9ab4-796f93303283",
   "metadata": {},
   "outputs": [
    {
     "name": "stdout",
     "output_type": "stream",
     "text": [
      "Scores of team A is not subset of scores of team B.\n",
      "Scores of team B is not superset of scores of team A.\n"
     ]
    }
   ],
   "source": [
    "#iv)\n",
    "if A.issubset(B):\n",
    "    print(\"Scores of team A is subset of scores of team B.\")\n",
    "else:\n",
    "    print(\"Scores of team A is not subset of scores of team B.\")\n",
    "if B.issuperset(A):\n",
    "    print(\"Scores of team B is superset of scores of team A.\")\n",
    "else:\n",
    "    print(\"Scores of team B is not superset of scores of team A.\")"
   ]
  },
  {
   "cell_type": "code",
   "execution_count": 21,
   "id": "dda30116-2c09-412b-a30f-7c61a7c2108a",
   "metadata": {},
   "outputs": [
    {
     "name": "stdout",
     "output_type": "stream",
     "text": [
      "Score doesn't exist!\n"
     ]
    }
   ],
   "source": [
    "#v)\n",
    "x = int(input(\"Enter the score to delete.\"))\n",
    "if x in A:\n",
    "    A.remove(x)\n",
    "    print(A)\n",
    "else:\n",
    "    print(\"Score doesn't exist!\")"
   ]
  },
  {
   "cell_type": "markdown",
   "id": "f0cccba9-ed23-4065-825d-6c16fbda2b12",
   "metadata": {},
   "source": [
    "**5. Write a program to rename a key city to a location in the following dictionary.**\n",
    "**Given:**\n",
    "```python\n",
    "sample_dict={\n",
    "    \"name\": \"Kelly\",\n",
    "    \"age\": 25,\n",
    "    \"salary\": 8000,\n",
    "    \"city\": \"New York\"\n",
    "}\n",
    "```\n",
    "**Expected Output:**\n",
    "`{'name': 'Kelly', 'age': 25, 'salary': 8000, 'location': 'New York'}`"
   ]
  },
  {
   "cell_type": "code",
   "execution_count": 22,
   "id": "da38e3b9-530f-4967-a475-ab19d1e5611b",
   "metadata": {},
   "outputs": [
    {
     "name": "stdout",
     "output_type": "stream",
     "text": [
      "{'name': 'Kelly', 'age': 25, 'salary': 8000, 'location': 'New York'}\n"
     ]
    }
   ],
   "source": [
    "sample_dict={\n",
    "    \"name\": \"Kelly\",\n",
    "    \"age\": 25,\n",
    "    \"salary\": 8000,\n",
    "    \"city\": \"New York\"\n",
    "}\n",
    "sample_dict[\"location\"] = sample_dict.pop(\"city\")\n",
    "print(sample_dict)"
   ]
  }
 ],
 "metadata": {
  "kernelspec": {
   "display_name": "base",
   "language": "python",
   "name": "python3"
  },
  "language_info": {
   "codemirror_mode": {
    "name": "ipython",
    "version": 3
   },
   "file_extension": ".py",
   "mimetype": "text/x-python",
   "name": "python",
   "nbconvert_exporter": "python",
   "pygments_lexer": "ipython3",
   "version": "3.12.8"
  }
 },
 "nbformat": 4,
 "nbformat_minor": 5
}
